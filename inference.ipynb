{
  "nbformat": 4,
  "nbformat_minor": 0,
  "metadata": {
    "colab": {
      "name": "inference.ipynb",
      "provenance": [],
      "authorship_tag": "ABX9TyPl/HOVan7f6eSDaIFACBJE",
      "include_colab_link": true
    },
    "kernelspec": {
      "display_name": "Python 3",
      "name": "python3"
    },
    "language_info": {
      "name": "python"
    },
    "accelerator": "GPU"
  },
  "cells": [
    {
      "cell_type": "markdown",
      "metadata": {
        "id": "view-in-github",
        "colab_type": "text"
      },
      "source": [
        "<a href=\"https://colab.research.google.com/github/thisis-nkul/FGPT/blob/main/inference.ipynb\" target=\"_parent\"><img src=\"https://colab.research.google.com/assets/colab-badge.svg\" alt=\"Open In Colab\"/></a>"
      ]
    },
    {
      "cell_type": "code",
      "metadata": {
        "colab": {
          "base_uri": "https://localhost:8080/"
        },
        "id": "kw9_UzEAZul0",
        "outputId": "d83d1849-a8da-4112-f687-1588c408ef4e"
      },
      "source": [
        "!pip install -q transformers tokenizers"
      ],
      "execution_count": 1,
      "outputs": [
        {
          "output_type": "stream",
          "text": [
            "\u001b[K     |████████████████████████████████| 2.5MB 9.1MB/s \n",
            "\u001b[K     |████████████████████████████████| 3.3MB 39.8MB/s \n",
            "\u001b[K     |████████████████████████████████| 901kB 22.9MB/s \n",
            "\u001b[?25h"
          ],
          "name": "stdout"
        }
      ]
    },
    {
      "cell_type": "code",
      "metadata": {
        "id": "HBTTPRqlZy9T"
      },
      "source": [
        "from transformers import AutoTokenizer, pipeline, GPT2LMHeadModel\n",
        "import torch\n",
        "\n",
        "model = GPT2LMHeadModel.from_pretrained('nkul/gpt2-frens')\n",
        "tokenizer = AutoTokenizer.from_pretrained('nkul/gpt2-frens')\n",
        "\n",
        "pline = pipeline('text-generation', model=model, tokenizer=tokenizer, framework='pt')"
      ],
      "execution_count": 10,
      "outputs": []
    },
    {
      "cell_type": "code",
      "metadata": {
        "id": "ol7FccUxgwE-"
      },
      "source": [
        "prompt = \"\"\"\n",
        "[Scene: Chandler and Joey's, Monica and Chandler are sitting on one of the chairs doing a crossword puzzle.]\n",
        "\n",
        "Joey: Hey!\n",
        "\n",
        "Chandler: Hey!\n",
        "\n",
        "Monica: Hey!\n",
        "\n",
        "Joey: What are you guys doing up?\n",
        "\n",
        "Chandler: Oh, we wanted to finish the crossword before we went to bed. Hey, do you know a six-letter word for red?\n",
        "\n",
        "Joey: (thinks) Dark red.\n",
        "\n",
        "Chandler: Yeah, I think that's wrong, but there's a Connect the Dots in here for you later. (To Monica) Hey, how about maroon?\n",
        "\"\"\"\n"
      ],
      "execution_count": 17,
      "outputs": []
    },
    {
      "cell_type": "code",
      "metadata": {
        "id": "tn1kSwZRoZOE"
      },
      "source": [
        ""
      ],
      "execution_count": null,
      "outputs": []
    },
    {
      "cell_type": "code",
      "metadata": {
        "colab": {
          "base_uri": "https://localhost:8080/"
        },
        "id": "_lbqArSCg68m",
        "outputId": "3e05e0fd-f37a-413b-d09f-6471cc696538"
      },
      "source": [
        "print(pline(prompt)[0]['generated_text'])"
      ],
      "execution_count": 18,
      "outputs": [
        {
          "output_type": "stream",
          "text": [
            "Setting `pad_token_id` to `eos_token_id`:50256 for open-end generation.\n"
          ],
          "name": "stderr"
        },
        {
          "output_type": "stream",
          "text": [
            "\n",
            "[Scene: Chandler and Joey's, Monica and Chandler are sitting on one of the chairs doing a crossword puzzle.]\n",
            "\n",
            "Joey: Hey!\n",
            "\n",
            "Chandler: Hey!\n",
            "\n",
            "Monica: Hey!\n",
            "\n",
            "Joey: What are you guys doing up?\n",
            "\n",
            "Chandler: Oh, we wanted to finish the crossword before we went to bed. Hey, do you know a six-letter word for red?\n",
            "\n",
            "Joey: (thinks) Dark red.\n",
            "\n",
            "Chandler: Yeah, I think that's wrong, but there's a Connect the Dots in here for you later. (To Monica) Hey, how about maroon?\n",
            "\n",
            "Monica: There is. Maroon is a color that you can actually wear, although not without some thought. And brown? It will go with you? You know what I mean?\n",
            "\n",
            "Joey: What's that?\n",
            "\n",
            "Chandler: (Stabs him in the throat) What is that again?\n",
            "\n",
            "Joey: (Thinks about it) It's a combination of a six-letter letters that mean \"brown,\" right? (To Joey) No, really, that's why.\n",
            "\n",
            "Chandler: I think you just got out of getting fired for having a bad dresser.\n",
            "\n",
            "Joey: (Grabs Chandler's shirt) You did that? What are you doing?\n",
            "\n",
            "Chandler: What's that?\n",
            "\n",
            "Joey: Do you know what I mean? I don't buy it!\n",
            "\n",
            "Chandler: (Thinks) Oh yeah, you do and I won't. But do you really think you're going to lose an hour of work because someone said a six-letter word?\n",
            "\n",
            "Joey: Well, then who will? We'll do it after we've all finished reading it and you'll find out for yourself.\n",
            "\n",
            "Chandler: But you've done nothing but eat fried chicken and eat ice-cream and read everything about my job in this building. I like it.\n",
            "\n",
            "Joey: Oh, you don't like my job. You know what I mean? I'm just an idiot.\n",
            "\n",
            "Chandler: You see? As hard as we fight that fight, if I do take away your six-letter words, it isn't because I don't like anyone's job very much. It's because I would rather be working at the bank again right now than at the mall or eating ice-cream with these people. And while you are at it, throw all of my memories into the trash like they came of milk. You may have forgotten some of them.\n",
            "\n",
            "Joey: That is insane! That's just crazy!\n",
            "\n",
            "Chandler: Well the only reason I gave up on that job is because I thought your last job was terrible, because you put the best people in it and then just didn't do good work in their sleep. Don't try too hard. There are things you can prove for yourself. You can see a picture of me working. A girl in the middle of the day in a dress. That is a picture of me working. It's called a job. It's not a job. It is more like a dream. A dream about people and about myself.\n",
            "\n",
            "Joey: What's that? (To Monica) When she first walked into the bank, I liked the way she looked. You put this dress on, and everything. She was nice.\n",
            "\n",
            "Chandler: How would she look? It's obvious.\n",
            "\n",
            "Joey: (Thinks) And she was nice. I loved her that way.\n",
            "\n",
            "Chandler: I liked her too.\n",
            "\n",
            "Joey: You know what? This job I have the same thought as you. My whole job is about having people tell me what they thought. You know? I'm just going to keep doing it. The dream we were having is going to change because of this job.\n",
            "\n",
            "Chandler: It won't. Nothing will. (Grabs Joey's shirt) I don't understand why you hate your job so much; it's just so fun to meet people. Don't you worry. I'm going to help you understand what you are doing wrong. Well, that's not as crazy. You'll be helping me fix this.\n",
            "\n",
            "[Act II \"The Dream]\n",
            "\n",
            "(A woman is standing at the bar drinking with Rachel.)\n",
            "\n",
            "Rachel: Hey, guys! I was just waiting for you.\n",
            "\n",
            "[Scene: Chandler and Monica's, Monica and Chandler are sitting on one of the chairs doing a crossword puzzle.]\n",
            "\n",
            "Joey: Hey!\n",
            "\n",
            "Chandler: Hey!\n",
            "\n",
            "Monica: Hey!\n",
            "\n",
            "Joan: You know that old dream, about me reading a magazine, right? I think that was you. You were having bad dreams. Right?\n"
          ],
          "name": "stdout"
        }
      ]
    }
  ]
}